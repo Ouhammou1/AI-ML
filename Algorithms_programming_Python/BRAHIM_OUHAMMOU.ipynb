{
 "cells": [
  {
   "cell_type": "markdown",
   "metadata": {},
   "source": [
    "### Exercise 1\n",
    "Matrix Multiplication: Write a function that performs matrix multiplication of two matrices (represented as lists of lists). Handle cases where multiplication is not possible."
   ]
  },
  {
   "cell_type": "code",
   "execution_count": null,
   "metadata": {},
   "outputs": [],
   "source": [
    "def check_matrix_is_valid(matrix_a, matrix_b):\n",
    "    if len(matrix_a) == 0 or len(matrix_b) == 0:\n",
    "        return False\n",
    "    for row in matrix_a:\n",
    "        if len(row) != len(matrix_a[0]):\n",
    "            return False\n",
    "    \n",
    "    for row in matrix_b:\n",
    "        if len(row) != len(matrix_b[0]):\n",
    "            return False\n",
    "    if len(matrix_a[0]) != len(matrix_b):\n",
    "        return False\n",
    "    return True\n",
    "\n",
    "\n",
    "def  mult_matrix(matrix_a, matrix_b):\n",
    "    if check_matrix_is_valid(matrix_a, matrix_b) == False :\n",
    "        print(\"Invalid matrix\")\n",
    "        return None\n",
    "    list_3 =  [[0 for _ in range(len(matrix_b[0]))] for _ in range(len(matrix_a))]\n",
    "    for i in range(len(matrix_a)):\n",
    "        for j in range(len(matrix_b[0])):\n",
    "            for k in range(len(matrix_b)):\n",
    "                list_3[i][j] += matrix_a[i][k] * matrix_b[k][j]\n",
    "    return list_3\n",
    "\n",
    "    \n",
    "\n",
    "list_1 = [\n",
    "    [1, 2, 3],\n",
    "    [4, 5, 6],\n",
    "    [7, 8, 9]\n",
    "]\n",
    "list_2 = [\n",
    "    [10, 20, 30],\n",
    "    [40, 50, 60],\n",
    "    [70, 80, 90]\n",
    "]\n",
    "\n",
    "print(mult_matrix(list_1 , list_2))"
   ]
  },
  {
   "cell_type": "markdown",
   "metadata": {},
   "source": [
    "### Exercise 2\n",
    "Polynomial Representation: Represent a polynomial (e.g., 3x² + 2x - 1) using a dictionary where keys are exponents and values are coefficients. Write functions to add and multiply two polynomials."
   ]
  },
  {
   "cell_type": "code",
   "execution_count": null,
   "metadata": {},
   "outputs": [],
   "source": []
  },
  {
   "cell_type": "markdown",
   "metadata": {},
   "source": [
    "### Exercise 3\n",
    "Recursive Function: Write a recursive function to calculate the factorial of a number."
   ]
  },
  {
   "cell_type": "code",
   "execution_count": null,
   "metadata": {},
   "outputs": [],
   "source": []
  },
  {
   "cell_type": "markdown",
   "metadata": {},
   "source": [
    "### Exercise 4\n",
    "Dynamic Programming (Fibonacci): Implement a dynamic programming solution to calculate the nth Fibonacci number efficiently."
   ]
  },
  {
   "cell_type": "code",
   "execution_count": null,
   "metadata": {},
   "outputs": [],
   "source": []
  },
  {
   "cell_type": "markdown",
   "metadata": {},
   "source": [
    "### Exercise 5\n",
    "Linked List Implementation: Implement a singly linked list data structure with methods for insertion, deletion, and searching."
   ]
  },
  {
   "cell_type": "code",
   "execution_count": null,
   "metadata": {},
   "outputs": [],
   "source": []
  },
  {
   "cell_type": "markdown",
   "metadata": {},
   "source": [
    "### Exercise 6\n",
    "Binary Search: Write a function that performs a binary search on a sorted list."
   ]
  },
  {
   "cell_type": "code",
   "execution_count": null,
   "metadata": {},
   "outputs": [],
   "source": []
  },
  {
   "cell_type": "markdown",
   "metadata": {},
   "source": [
    "### Exercise 7\n",
    "Queue Implementation: Implement a queue data structure using a list. Include methods for enqueue (add to rear), dequeue (remove from front), and checking if the queue is empty."
   ]
  },
  {
   "cell_type": "code",
   "execution_count": null,
   "metadata": {},
   "outputs": [],
   "source": []
  },
  {
   "cell_type": "markdown",
   "metadata": {},
   "source": [
    "### Exercise 8\n",
    "Stack Implementation: Implement a stack data structure using a list. Include methods for push (add to top), pop (remove from top), and checking if the stack is empty."
   ]
  },
  {
   "cell_type": "code",
   "execution_count": null,
   "metadata": {},
   "outputs": [],
   "source": []
  },
  {
   "cell_type": "markdown",
   "metadata": {},
   "source": [
    "### Exercise 9\n",
    "Graph Representation (Adjacency List): Represent a graph using an adjacency list (a dictionary where keys are nodes and values are lists of their neighbors). Write a function to perform Breadth-First Search (BFS)."
   ]
  },
  {
   "cell_type": "code",
   "execution_count": null,
   "metadata": {},
   "outputs": [],
   "source": []
  },
  {
   "cell_type": "markdown",
   "metadata": {},
   "source": [
    "### Exercise 10\n",
    "Graph Representation (Adjacency Matrix): Represent a graph using an adjacency matrix (a list of lists). Write a function to perform Depth-First Search (DFS)."
   ]
  },
  {
   "cell_type": "code",
   "execution_count": null,
   "metadata": {},
   "outputs": [],
   "source": []
  },
  {
   "cell_type": "markdown",
   "metadata": {},
   "source": [
    "### Exercise 11\n",
    "Object-Oriented Programming (Bank Account): Create a BankAccount class with attributes like balance and methods for deposit, withdrawal, and checking the balance. Include error handling for insufficient funds."
   ]
  },
  {
   "cell_type": "code",
   "execution_count": null,
   "metadata": {},
   "outputs": [],
   "source": []
  },
  {
   "cell_type": "markdown",
   "metadata": {},
   "source": [
    "### Exercise 12\n",
    "Object-Oriented Programming (Inheritance): Create a SavingsAccount class that inherits from the BankAccount class (from exercise 13) and adds an interest rate attribute and a method to calculate interest."
   ]
  },
  {
   "cell_type": "code",
   "execution_count": null,
   "metadata": {},
   "outputs": [],
   "source": []
  },
  {
   "cell_type": "markdown",
   "metadata": {},
   "source": [
    "### Exercise 13\n",
    "Regular Expressions: Write a program that uses regular expressions to find all email addresses in a given text string."
   ]
  },
  {
   "cell_type": "code",
   "execution_count": null,
   "metadata": {},
   "outputs": [],
   "source": []
  }
 ],
 "metadata": {
  "kernelspec": {
   "display_name": "Python 3",
   "language": "python",
   "name": "python3"
  },
  "language_info": {
   "codemirror_mode": {
    "name": "ipython",
    "version": 3
   },
   "file_extension": ".py",
   "mimetype": "text/x-python",
   "name": "python",
   "nbconvert_exporter": "python",
   "pygments_lexer": "ipython3",
   "version": "3.12.0"
  }
 },
 "nbformat": 4,
 "nbformat_minor": 2
}
