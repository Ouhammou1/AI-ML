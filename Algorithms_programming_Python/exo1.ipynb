{
 "cells": [
  {
   "cell_type": "markdown",
   "metadata": {},
   "source": [
    "### Exercise 1\n",
    "Matrix Multiplication: Write a function that performs matrix multiplication of two matrices (represented as lists of lists). Handle cases where multiplication is not possible."
   ]
  },
  {
   "cell_type": "code",
   "execution_count": 14,
   "metadata": {},
   "outputs": [
    {
     "name": "stdout",
     "output_type": "stream",
     "text": [
      "La matrice est : [[6, 5], [6, 11]]\n",
      "shape : (2, 2)\n"
     ]
    }
   ],
   "source": [
    "def former_matrice(liste=[],shape_new_mat=(0,0)):\n",
    "        mat = []\n",
    "        for k in range(shape_new_mat[0],len(liste)+1,shape_new_mat[0]):\n",
    "                mat.append(liste[k-shape_new_mat[0]:k])\n",
    "        return mat\n",
    "\n",
    "def shape_new_matrice(mat1,mat2):\n",
    "        length_Mat1 = len(mat1),len(mat1[0])\n",
    "        length_Mat2 = len(mat2),len(mat2[0])\n",
    "        shape_new_mat = length_Mat1[0],length_Mat2[1]\n",
    "\n",
    "        return shape_new_mat,length_Mat1,length_Mat2\n",
    "\n",
    "def shape(matrice):\n",
    "        return len(matrice),len(matrice[0])\n",
    "\n",
    "def multi_matrice(mat1,mat2):\n",
    "        shape_new_mat, length_Mat1,length_Mat2 = shape_new_matrice(mat1,mat2)\n",
    "        if (length_Mat1[1] != length_Mat2[0]) :\n",
    "                return \"Impossible de faire la multiplication entre ces matrices\"\n",
    "        c=0\n",
    "        liste = []\n",
    "\n",
    "        for i in range(length_Mat1[0]) :\n",
    "                for k in range(length_Mat1[0]) :\n",
    "                        for m in range(length_Mat1[1]):\n",
    "                                if not (isinstance(mat1[i][m], int) and isinstance(mat2[m][k], int)):\n",
    "                                        return \"Impossible de faire la multiplication entre ces matrices\"\n",
    "                                c += (int(mat1[i][m]) * int(mat2[m][k] ))\n",
    "                        liste.append(c)\n",
    "                        c = 0\n",
    "        new_mat = former_matrice(liste,shape_new_mat)\n",
    "        return new_mat\n",
    "\n",
    "# mat1 = [[1,0],\n",
    "#         [1,2],\n",
    "#         [1,1]]\n",
    "# mat2 = [[2,1,0],\n",
    "#         [0,1,1]]\n",
    "mat1 = [[1,0,1,1],\n",
    "        [1,2,1,1],\n",
    "        ]\n",
    "mat2 = [[2,1],\n",
    "        [0,3],\n",
    "        [2,2],\n",
    "        [2,2]\n",
    "        ]\n",
    "\n",
    "new_mat = multi_matrice(mat1,mat2)\n",
    "\n",
    "print(f'La matrice est : {new_mat}')\n",
    "print(f'shape : {shape(new_mat)}')\n",
    "\n",
    "\n",
    "\n",
    "\n"
   ]
  }
 ],
 "metadata": {
  "kernelspec": {
   "display_name": "Python 3",
   "language": "python",
   "name": "python3"
  },
  "language_info": {
   "codemirror_mode": {
    "name": "ipython",
    "version": 3
   },
   "file_extension": ".py",
   "mimetype": "text/x-python",
   "name": "python",
   "nbconvert_exporter": "python",
   "pygments_lexer": "ipython3",
   "version": "3.10.7"
  }
 },
 "nbformat": 4,
 "nbformat_minor": 2
}
