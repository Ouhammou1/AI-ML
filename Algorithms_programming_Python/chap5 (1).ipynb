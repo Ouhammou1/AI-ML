{
 "cells": [
  {
   "cell_type": "markdown",
   "metadata": {},
   "source": [
    "## Chapter 5. Handling Numerical Data\n",
    "\n",
    "### 5.0 Introduction\n",
    "Quantitative data is the measurement of something—whether class size, monthly sales, or student scores. The natural way to represent these quantities is numerically (e.g., 29 students, $529,392 in sales). In this chapter, we will cover numerous strategies for transforming raw numerical data into features purpose-built for machine learning algorithms.\n",
    "\n",
    "### 5.1 Rescaling a Feature\n",
    "##### Problem\n",
    "You need to rescale the values of a numerical feature to be between two values.\n",
    "\n",
    "##### Solution\n",
    "Use scikit-learn’s MinMaxScaler to rescale a feature array:"
   ]
  },
  {
   "cell_type": "code",
   "execution_count": null,
   "metadata": {},
   "outputs": [],
   "source": []
  },
  {
   "cell_type": "markdown",
   "metadata": {},
   "source": [
    "### 5.2 Standardizing a Feature\n",
    "##### Problem\n",
    "You want to transform a feature to have a mean of 0 and a standard deviation of 1.\n",
    "##### Solution\n",
    "scikit-learn’s StandardScaler performs both transformations:"
   ]
  },
  {
   "cell_type": "code",
   "execution_count": null,
   "metadata": {},
   "outputs": [],
   "source": []
  },
  {
   "cell_type": "code",
   "execution_count": null,
   "metadata": {},
   "outputs": [],
   "source": []
  },
  {
   "cell_type": "code",
   "execution_count": null,
   "metadata": {},
   "outputs": [],
   "source": []
  },
  {
   "cell_type": "markdown",
   "metadata": {},
   "source": [
    "### 5.3 Normalizing Observations\n",
    "##### Problem\n",
    "You want to rescale the feature values of observations to have unit norm (a total length of 1).\n",
    "##### Solution\n",
    "Use Normalizer with a norm argument:\n"
   ]
  },
  {
   "cell_type": "code",
   "execution_count": null,
   "metadata": {},
   "outputs": [],
   "source": []
  },
  {
   "cell_type": "code",
   "execution_count": null,
   "metadata": {},
   "outputs": [],
   "source": []
  },
  {
   "cell_type": "code",
   "execution_count": null,
   "metadata": {},
   "outputs": [],
   "source": []
  },
  {
   "cell_type": "code",
   "execution_count": null,
   "metadata": {},
   "outputs": [],
   "source": []
  },
  {
   "cell_type": "markdown",
   "metadata": {},
   "source": [
    "### 5.4 Generating Polynomial and Interaction Features\n",
    "##### Problem\n",
    "You want to create polynomial and interaction features.\n",
    "##### Solution\n",
    "Even though some choose to create polynomial and interaction features manually, scikit-learn offers a built-in method:"
   ]
  },
  {
   "cell_type": "code",
   "execution_count": null,
   "metadata": {},
   "outputs": [],
   "source": []
  },
  {
   "cell_type": "code",
   "execution_count": null,
   "metadata": {},
   "outputs": [],
   "source": []
  },
  {
   "cell_type": "markdown",
   "metadata": {},
   "source": [
    "### 5.5 Transforming Features\n",
    "##### Problem\n",
    "You want to make a custom transformation to one or more features.\n",
    "##### Solution\n",
    "In scikit-learn, use FunctionTransformer to apply a function to a set of features:"
   ]
  },
  {
   "cell_type": "code",
   "execution_count": null,
   "metadata": {},
   "outputs": [],
   "source": []
  },
  {
   "cell_type": "markdown",
   "metadata": {},
   "source": [
    "We can create the same transformation in pandas using apply:"
   ]
  },
  {
   "cell_type": "code",
   "execution_count": null,
   "metadata": {},
   "outputs": [],
   "source": []
  },
  {
   "cell_type": "code",
   "execution_count": null,
   "metadata": {},
   "outputs": [],
   "source": []
  },
  {
   "cell_type": "markdown",
   "metadata": {},
   "source": [
    "### 5.6 Detecting Outliers\n",
    "##### Problem\n",
    "You want to identify extreme observations\n",
    "##### Solution\n",
    "Detecting outliers is unfortunately"
   ]
  },
  {
   "cell_type": "code",
   "execution_count": null,
   "metadata": {},
   "outputs": [],
   "source": []
  },
  {
   "cell_type": "code",
   "execution_count": null,
   "metadata": {},
   "outputs": [],
   "source": []
  },
  {
   "cell_type": "markdown",
   "metadata": {},
   "source": [
    "### 5.7 Handling Outliers\n",
    "##### Problem\n",
    "You have outliers in your data that you want to identify and then reduce their impact on the data\n",
    "distribution.\n",
    "##### Solution\n",
    "Typically we can use three strategies to handle outliers. First, we can drop them:"
   ]
  },
  {
   "cell_type": "code",
   "execution_count": null,
   "metadata": {},
   "outputs": [],
   "source": []
  },
  {
   "cell_type": "code",
   "execution_count": null,
   "metadata": {},
   "outputs": [],
   "source": []
  },
  {
   "cell_type": "code",
   "execution_count": null,
   "metadata": {},
   "outputs": [],
   "source": []
  },
  {
   "cell_type": "markdown",
   "metadata": {},
   "source": [
    "### 5.8 Discretizating Features\n",
    "##### Problem\n",
    "You have a numerical feature and want to break it up into discrete bins.\n",
    "##### Solution\n",
    "Depending on how we want to break up the data, there are two techniques we can use. First, we can binarize the feature according to some threshold:"
   ]
  },
  {
   "cell_type": "code",
   "execution_count": null,
   "metadata": {},
   "outputs": [],
   "source": []
  },
  {
   "cell_type": "code",
   "execution_count": null,
   "metadata": {},
   "outputs": [],
   "source": []
  },
  {
   "cell_type": "code",
   "execution_count": null,
   "metadata": {},
   "outputs": [],
   "source": []
  },
  {
   "cell_type": "code",
   "execution_count": null,
   "metadata": {},
   "outputs": [],
   "source": []
  },
  {
   "cell_type": "markdown",
   "metadata": {},
   "source": [
    "### 5.9 Grouping Observations Using Clustering\n",
    "##### Problem\n",
    "You want to cluster observations so that similar observations are grouped together.\n",
    "##### Solution\n",
    "If you know that you have k groups, you can use k-means clustering to group similar observations and output a new feature containing each observation’s group membership:"
   ]
  },
  {
   "cell_type": "code",
   "execution_count": null,
   "metadata": {},
   "outputs": [],
   "source": []
  },
  {
   "cell_type": "markdown",
   "metadata": {},
   "source": [
    "##### Discussion\n",
    "We are jumping ahead of ourselves a bit and will go into much more depth about clustering algorithms later in the book."
   ]
  },
  {
   "cell_type": "markdown",
   "metadata": {},
   "source": [
    "### 5.10 Deleting Observations with Missing Values\n",
    "##### Problem\n",
    "You need to delete observations containing missing values.\n",
    "##### Solution\n",
    "Deleting observations with missing values is easy with a clever line of NumPy:"
   ]
  },
  {
   "cell_type": "code",
   "execution_count": null,
   "metadata": {},
   "outputs": [],
   "source": []
  },
  {
   "cell_type": "code",
   "execution_count": null,
   "metadata": {},
   "outputs": [],
   "source": []
  },
  {
   "cell_type": "markdown",
   "metadata": {},
   "source": [
    "### 5.11 Imputing Missing Values\n",
    "##### Problem\n",
    "You have missing values in your data and want to impute them via a generic method or prediction.\n",
    "##### Solution\n",
    "You can impute missing values using k-nearest neighbors (KNN) or the scikit-learn SimpleImputer class. If you have a small amount of data, predict and impute the missing values using k-nearest neighbors:"
   ]
  },
  {
   "cell_type": "code",
   "execution_count": null,
   "metadata": {},
   "outputs": [],
   "source": []
  },
  {
   "cell_type": "code",
   "execution_count": null,
   "metadata": {},
   "outputs": [],
   "source": []
  }
 ],
 "metadata": {
  "kernelspec": {
   "display_name": "Python 3",
   "language": "python",
   "name": "python3"
  },
  "language_info": {
   "codemirror_mode": {
    "name": "ipython",
    "version": 3
   },
   "file_extension": ".py",
   "mimetype": "text/x-python",
   "name": "python",
   "nbconvert_exporter": "python",
   "pygments_lexer": "ipython3",
   "version": "3.12.0"
  }
 },
 "nbformat": 4,
 "nbformat_minor": 2
}
