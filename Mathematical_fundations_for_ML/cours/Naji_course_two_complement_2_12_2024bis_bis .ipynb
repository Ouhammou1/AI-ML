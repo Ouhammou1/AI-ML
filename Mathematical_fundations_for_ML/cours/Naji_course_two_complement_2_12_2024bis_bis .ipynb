{
 "cells": [
  {
   "cell_type": "code",
   "execution_count": 1,
   "metadata": {},
   "outputs": [],
   "source": [
    "import torch"
   ]
  },
  {
   "cell_type": "code",
   "execution_count": 2,
   "metadata": {},
   "outputs": [
    {
     "name": "stdout",
     "output_type": "stream",
     "text": [
      "tensor_2d.view(-1)= tensor([0.5876, 0.0157, 0.7968, 0.2957, 0.3764, 0.9093, 0.6980, 0.4564, 0.2229,\n",
      "        0.4247, 0.8021, 0.2679, 0.7215, 0.2263, 0.2898, 0.6369, 0.5643, 0.3510,\n",
      "        0.0171, 0.9519])\n"
     ]
    },
    {
     "data": {
      "text/plain": [
       "torch.Size([20])"
      ]
     },
     "execution_count": 2,
     "metadata": {},
     "output_type": "execute_result"
    }
   ],
   "source": [
    "# Créer un tenseur 2D de taille (4, 5): create a 2 D tensor of size (4,5)\n",
    "tensor_2d = torch.tensor([[0.5876, 0.0157, 0.7968, 0.2957, 0.3764],\n",
    "                          [0.9093, 0.6980, 0.4564, 0.2229, 0.4247],\n",
    "                          [0.8021, 0.2679, 0.7215, 0.2263, 0.2898],\n",
    "                          [0.6369, 0.5643, 0.3510, 0.0171, 0.9519]])\n",
    "\n",
    "\n",
    "\n",
    "print('tensor_2d.view(-1)=',tensor_2d.view(-1))\n",
    "tensor_2d.view(-1).shape"
   ]
  },
  {
   "cell_type": "code",
   "execution_count": 3,
   "metadata": {},
   "outputs": [
    {
     "name": "stdout",
     "output_type": "stream",
     "text": [
      "Tenseur trié par ordre croissant : \n",
      " torch.return_types.sort(\n",
      "values=tensor([0.0157, 0.0171, 0.2229, 0.2263, 0.2679, 0.2898, 0.2957, 0.3510, 0.3764,\n",
      "        0.4247, 0.4564, 0.5643, 0.5876, 0.6369, 0.6980, 0.7215, 0.7968, 0.8021,\n",
      "        0.9093, 0.9519]),\n",
      "indices=tensor([ 1, 18,  8, 13, 11, 14,  3, 17,  4,  9,  7, 16,  0, 15,  6, 12,  2, 10,\n",
      "         5, 19]))\n"
     ]
    }
   ],
   "source": [
    "# Trier le tenseur par ordre croissant : Sort the tensor in increase or ascending  order \n",
    "xx=tensor_2d.view(-1)\n",
    "sorted_xx = xx.sort()\n",
    "\n",
    "# Afficher le tenseur trié : display the sorted tensor or show sorted order \n",
    "print(\"Tenseur trié par ordre croissant : \\n\", sorted_xx)"
   ]
  },
  {
   "cell_type": "code",
   "execution_count": 4,
   "metadata": {},
   "outputs": [
    {
     "name": "stdout",
     "output_type": "stream",
     "text": [
      "tensor_2d.view(-1)= tensor([0.5876, 0.0157, 0.7968, 0.2957, 0.3764, 0.9093, 0.6980, 0.4564, 0.2229,\n",
      "        0.4247, 0.8021, 0.2679, 0.7215, 0.2263, 0.2898, 0.6369, 0.5643, 0.3510,\n",
      "        0.0171, 0.9519])\n",
      "tensor-trie torch.return_types.sort(\n",
      "values=tensor([0.0157, 0.0171, 0.2229, 0.2263, 0.2679, 0.2898, 0.2957, 0.3510, 0.3764,\n",
      "        0.4247, 0.4564, 0.5643, 0.5876, 0.6369, 0.6980, 0.7215, 0.7968, 0.8021,\n",
      "        0.9093, 0.9519]),\n",
      "indices=tensor([ 1, 18,  8, 13, 11, 14,  3, 17,  4,  9,  7, 16,  0, 15,  6, 12,  2, 10,\n",
      "         5, 19]))\n",
      "median_all= tensor(0.4247)\n"
     ]
    }
   ],
   "source": [
    "\n",
    "\n",
    "# Créer un tenseur 2D de taille (4, 5): create a 2 D tensor of size (4,5)\n",
    "tensor_2d = torch.tensor([[0.5876, 0.0157, 0.7968, 0.2957, 0.3764],\n",
    "                          [0.9093, 0.6980, 0.4564, 0.2229, 0.4247],\n",
    "                          [0.8021, 0.2679, 0.7215, 0.2263, 0.2898],\n",
    "                          [0.6369, 0.5643, 0.3510, 0.0171, 0.9519]])\n",
    "\n",
    "# Calculer la médiane sur l'ensemble du tenseur en l'aplatissant:\n",
    "# Compute the median of the entire tensor by flattening it.\n",
    "\n",
    "median_all = tensor_2d.view(-1).median()\n",
    "print('tensor_2d.view(-1)=',tensor_2d.view(-1))\n",
    "print('tensor-trie',torch.sort(tensor_2d.view(-1)))\n",
    "print('median_all=',median_all)"
   ]
  },
  {
   "cell_type": "code",
   "execution_count": 5,
   "metadata": {},
   "outputs": [
    {
     "name": "stdout",
     "output_type": "stream",
     "text": [
      "Tenseur 2D : \n",
      " tensor([[0.5876, 0.0157, 0.7968, 0.2957, 0.3764],\n",
      "        [0.9093, 0.6980, 0.4564, 0.2229, 0.4247],\n",
      "        [0.8021, 0.2679, 0.7215, 0.2263, 0.2898],\n",
      "        [0.6369, 0.5643, 0.3510, 0.0171, 0.9519]])\n",
      "Médiane sur l'ensemble du tenseur :  tensor(0.4247)\n",
      "Médiane sur chaque ligne (calcul manuel) :  tensor([0.3764, 0.4564, 0.2898, 0.5643])\n",
      "Médiane sur chaque colonne (calcul manuel) :  tensor([0.7195, 0.4161, 0.5889, 0.2246, 0.4006])\n"
     ]
    }
   ],
   "source": [
    "import torch\n",
    "\n",
    "# Créer un tenseur 2D de taille (4, 5) : create a 2 D tensor of size (4,5)\n",
    "tensor_2d = torch.tensor([[0.5876, 0.0157, 0.7968, 0.2957, 0.3764],\n",
    "                          [0.9093, 0.6980, 0.4564, 0.2229, 0.4247],\n",
    "                          [0.8021, 0.2679, 0.7215, 0.2263, 0.2898],\n",
    "                          [0.6369, 0.5643, 0.3510, 0.0171, 0.9519]])\n",
    "\n",
    "# Calculer la médiane sur l'ensemble du tenseur en l'aplatissant:\n",
    "# Compute the median of the entire tensor by flattening it.\n",
    "median_all = tensor_2d.view(-1).median()\n",
    "\n",
    "# Calculer la médiane sur chaque ligne en triant manuellement\n",
    "# Compute the median of each row by manually sorting.\n",
    "median_rows = []\n",
    "for row in tensor_2d:  # Accéder aux lignes: Access the rows\n",
    "    sorted_row, _ = row.sort()\n",
    "    n = len(sorted_row)\n",
    "    if n % 2 == 0:\n",
    "        # Nombre pair d'éléments : Even number of elements.\n",
    "        median_row = (sorted_row[n // 2 - 1].item() + sorted_row[n // 2].item()) / 2.0\n",
    "    else:\n",
    "        # Nombre impair d'éléments : Odd number of elements.\n",
    "        median_row = sorted_row[n // 2].item()\n",
    "    median_rows.append(median_row)\n",
    "\n",
    "# Calculer la médiane sur chaque colonne en triant manuellement\n",
    "# Compute the median of each colomn  by manually sorting.\n",
    "median_cols = []\n",
    "for col in tensor_2d.T:  # Transposer pour accéder aux colonnes : Transpose to access the columns\n",
    "    sorted_col, _ = col.sort()\n",
    "    n = len(sorted_col)\n",
    "    if n % 2 == 0:\n",
    "        # Nombre pair d'éléments : Even number of elements.\n",
    "        median_col = (sorted_col[n // 2 - 1].item() + sorted_col[n // 2].item()) / 2.0\n",
    "    else:\n",
    "        # Nombre impair d'éléments : Odd number of elements.\n",
    "        median_col = sorted_col[n // 2].item()\n",
    "    median_cols.append(median_col)\n",
    "\n",
    "# Convertir les résultats en tenseurs : Convert the results into tensors.\n",
    "median_rows = torch.tensor(median_rows)\n",
    "median_cols = torch.tensor(median_cols)\n",
    "\n",
    "# Afficher les résultats :  Display the results.\n",
    "print(\"Tenseur 2D : \\n\", tensor_2d)\n",
    "print(\"Médiane sur l'ensemble du tenseur : \", median_all)\n",
    "print(\"Médiane sur chaque ligne (calcul manuel) : \", median_rows)\n",
    "print(\"Médiane sur chaque colonne (calcul manuel) : \", median_cols)\n"
   ]
  },
  {
   "cell_type": "markdown",
   "metadata": {},
   "source": [
    "# Créer un tenseur 2D de taille (4, 5) : create a 2 D tensor of size (4,5)\n",
    "tensor_2d = torch.tensor([[0.5876, 0.0157, 0.7968, 0.2957, 0.3764],\n",
    "                          [0.9093, 0.6980, 0.4564, 0.2229, 0.4247],\n",
    "                          [0.8021, 0.2679, 0.7215, 0.2263, 0.2898],\n",
    "                          [0.6369, 0.5643, 0.3510, 0.0171, 0.9519]])\n",
    "# Médiane sur chaque colonne : Median of each column\n",
    "<c1=[0.5876 0.9093 0.8021 0.6369] → [0.5876 0.6369   0.8021 0.9093] mc1=(0.6369 +  0.8021)/2=0.7195\n",
    "C2=[0.0157 0.6980 0.2679 0.5643] → [0.0157 0.2679  0.5643  0.6980]  <umc2=(0.2679+0.5643)/2=0.4161>\n",
    "C3=[0.7968 0.4564 0.7215 0.3510] → [0.3510 0.4564  0.72150.0.7968 ]  mc3=(0.4564+0.72150)/2=0.58895\n",
    "C4=[0.2957 0.2229 0.2263 0.0171] → [0.0171  0.2229  0.2263  0.2957 ] mc4=(0.2229+0.2263)/2=0.2246\n",
    "C5=[0.3764 0.4247 0.2898 0.9519] → [0.2898  0.3764 0.4247  0.9519]  mc5=(0.3764 +0.4247)/2=0.40055\n",
    "\n",
    "# Médiane sur chaque ligne : Median of each row \n",
    "L1=[0.5876, 0.0157, 0.7968, 0.2957, 0.3764] → [0.0157, 0.2957, 0.3764,  0.5876,  0.7968 ] mL1=0.3764\n",
    "L2=[0.9093, 0.6980, 0.4564, 0.2229, 0.4247] → [0.2229, 0.4247, 0.4564,  0.6980, 0.9093 ]  mL2=0.4564\n",
    "L3=[0.8021, 0.2679, 0.7215, 0.2263, 0.2898] →  [0.2263,0.2679, 0.2898 , 0.7215, 0.8021]   mL3=0.2898\n",
    "L4=[0.6369, 0.5643, 0.3510, 0.0171, 0.9519] →  [0.0171, 0.3510, 0.5643,  0.6369,   0.9519]   mL4=0.5643\n",
    "\n",
    "# Médiane sur l'ensemble du tenseur : Median of the entire  tensor  \n",
    "<Tmediane=[mc4=0.2246,mL3=0.2898 ,mL1=0.3764,mc5=0.40055 ,mc2=0.4161,mL2=0.4564,mL4=0.5643,mc3=0.58895,mc1=0.7195] → mediane=mc2=0.4161\n",
    "\n",
    "mais : but\n",
    "\n",
    "<Médiane sur l'ensemble du tenseur :  tensor(0.4247) qui est différente de mediane=mc2=0.4161\n",
    "<The median of the entire tensor is calculated as tensor(0.4247), which is different from the median \n",
    "mediane mc2 = 0.4161\n"
   ]
  },
  {
   "cell_type": "markdown",
   "metadata": {},
   "source": [
    "<Remarque importante: Important note:\n",
    "la médiane de l'ensemble du tenseur et celle calculée en combinant les médianes des lignes et des colonnes peuvent être différentes. Cela vient de la manière dont chaque médiane est calculée :\n",
    "\n",
    "<span style=\"\n",
    "The median of the entire tensor and the one calculated by combining the medians of the rows and columns may be different. This is due to the way each median is calculated:\n",
    "\n",
    "<Médiane sur l'ensemble du tenseur : On aplatit le tenseur entier en un vecteur 1D, puis on calcule la médiane de tous les éléments.\n",
    "<span style=\"  \n",
    "Median of the entire tensor: The entire tensor is flattened into a 1D vector, and then the median of all the elements is calculated.\n",
    "\n",
    "<Médiane en combinant les lignes et les colonnes : Cette approche consiste à prendre les médianes individuelles des lignes et des colonnes, puis à en calculer la médiane. Cette méthode ne correspond pas à la médiane de l'ensemble des valeurs du tenseur, mais plutôt à une sorte de \"médiane des médianes,\" qui n'est pas la même statistique.\n",
    "<span style=\"\n",
    "Median by combining rows and columns: This approach involves taking the individual medians of the rows and columns, then calculating the median of those. This method does not correspond to the median of all the values in the tensor, but rather a kind of \"median of medians,\" which is not the same statistic.\n",
    "\n",
    "\n",
    "Cela signifie que : This means that:\n",
    "\n",
    "<La médiane de l'ensemble du tenseur est calculée directement sur tous les éléments du tenseur.\n",
    "<span style=\"\n",
    "The median of the entire tensor is calculated directly over all the elements of the tensor\n",
    "\n",
    "La médiane calculée à partir des médianes des lignes et des colonnes est une statistique différente et ne représente pas la médiane réelle de tous les éléments.\n",
    "<span style=\"\n",
    "The median calculated from the medians of the rows and columns is a different statistic and does not represent the actual median of all the elements. \n",
    "\n",
    "<Si on veut trouver la médiane réelle du tenseur, il faut toujours aplatir le tenseur pour utiliser tous les éléments.\n",
    "<span style=\"\n",
    "If you want to find the actual median of the tensor, you must always flatten the tensor to use all the elements.\n"
   ]
  },
  {
   "cell_type": "code",
   "execution_count": 6,
   "metadata": {},
   "outputs": [
    {
     "name": "stdout",
     "output_type": "stream",
     "text": [
      "n=:\n",
      " 20\n",
      "Médiane standard (moyenne des valeurs centrales) :  tensor(0.4405)\n"
     ]
    }
   ],
   "source": [
    "sorted_values = sorted_xx.values\n",
    "n = sorted_values.size(0)  # Taille du tenseur trié: size of the sorted tensor\n",
    "print(\"n=:\\n\",n)\n",
    "median_manual = (sorted_values[n // 2 - 1] + sorted_values[n // 2]) / 2\n",
    "print(\"Médiane standard (moyenne des valeurs centrales) : \", median_manual)\n",
    "\n",
    "#sorted_xx:\n",
    "# values=tensor([0.0157, 0.0171, 0.2229, 0.2263, 0.2679, 0.2898, 0.2957, 0.3510, 0.3764,\n",
    "#         0.4247, 0.4564, 0.5643, 0.5876, 0.6369, 0.6980, 0.7215, 0.7968, 0.8021,\n",
    "#         0.9093, 0.9519]),\n",
    "# indices=tensor([ 1, 18,  8, 13, 11, 14,  3, 17,  4,  9,  7, 16,  0, 15,  6, 12,  2, 10,\n",
    "#          5, 19]))\n"
   ]
  },
  {
   "cell_type": "code",
   "execution_count": 9,
   "metadata": {},
   "outputs": [
    {
     "data": {
      "text/plain": [
       "0.44055"
      ]
     },
     "execution_count": 9,
     "metadata": {},
     "output_type": "execute_result"
    }
   ],
   "source": [
    "median_manual=(0.4247+0.4564)/2\n",
    "median_manual"
   ]
  },
  {
   "cell_type": "markdown",
   "metadata": {},
   "source": [
    "<Différence entre les deux méthodes: Difference between the two methods:  \n",
    "<span style=\"\n",
    "La différence vient donc de l'approche utilisée : The difference comes from the approach used:\n",
    "\n",
    "<PyTorch .median() : Renvoie simplement l'élément central supérieur dans le cas d'un nombre pair d'éléments.\n",
    "**PyTorch .median(): Simply returns the upper central element in the case of an even number of elements.\n",
    "\n",
    "<span style=\"  \n",
    "Calcul statistique standard : Prend la moyenne des deux valeurs centrales pour un nombre pair d'éléments.\n",
    "**Standard statistical calculation**: Takes the average of the two central values for an even number of elements.\n"
   ]
  },
  {
   "cell_type": "code",
   "execution_count": 10,
   "metadata": {},
   "outputs": [
    {
     "data": {
      "text/plain": [
       "torch.return_types.median(\n",
       "values=tensor([-0.3982,  0.2270,  0.2488,  0.4742]),\n",
       "indices=tensor([1, 4, 4, 3]))"
      ]
     },
     "execution_count": 10,
     "metadata": {},
     "output_type": "execute_result"
    }
   ],
   "source": [
    "#a = torch.randn(4, 5)\n",
    "import torch\n",
    "a=torch.tensor([[ 0.2505, -0.3982, -0.9948,  0.3518, -1.3131],\n",
    "        [ 0.3180, -0.6993,  1.0436,  0.0438,  0.2270],\n",
    "        [-0.2751,  0.7303,  0.2192,  0.3321,  0.2488],\n",
    "        [ 1.0778, -1.9510,  0.7048,  0.4742, -0.7125]])\n",
    "torch.median(a, 1)\n",
    "\n",
    "#torch.median(a, 1):renvoie deux tenseurs : Returns two tensors: \n",
    "#- Valeurs médianes  Pour chaque ligne, elle calcule la valeur médiane.\n",
    "#**Median values**: For each row, it calculates the median value.\n",
    "#- Indices : Pour chaque ligne, elle retourne l’indice de l'élément qui correspond à la médiane dans cette ligne. \n",
    "#**Indices**: For each row, it returns the index of the element that corresponds to the median in that row.\n",
    "  \n",
    "#torch.return_types.median(values=tensor([-0.3982,  0.2270,  0.2488,  0.4742]), \n",
    "# indices=tensor([1, 4, 4, 3]))"
   ]
  },
  {
   "cell_type": "code",
   "execution_count": 11,
   "metadata": {},
   "outputs": [
    {
     "data": {
      "text/plain": [
       "tensor(0.2270)"
      ]
     },
     "execution_count": 11,
     "metadata": {},
     "output_type": "execute_result"
    }
   ],
   "source": [
    "torch.median(a)"
   ]
  },
  {
   "cell_type": "markdown",
   "metadata": {},
   "source": [
    "<Exercice 2 : Calcul de la moyenne et l'écart type d'un tenseur\n",
    "Enoncé : Créez un tenseur 3D de taille (3,4,5). Calculez la moyenne et l'écart type de ce tenseur, ainsi que la moyenne et l'écart type sur chaque axe (chaque dimension).\n",
    "<span style=\"\n",
    "**Exercise 2: Calculation of the mean and standard deviation of a tensor**  \n",
    "**Statement:** Create a 3D tensor of size (3, 4, 5). Calculate the mean and standard deviation of this tensor, as well as the mean and standard deviation along each axis (dimension)."
   ]
  },
  {
   "cell_type": "markdown",
   "metadata": {},
   "source": [
    "<Pour illustrer les calculs de moyenne et d'écart type sur chaque dimension, prenons une vue détaillée sur chaque couche du tenseur 3D\n",
    "<span style=\"To illustrate the calculations of mean and standard deviation along each dimension, let's take a detailed look at each layer of the 3D tensor. \n",
    "\n",
    "$\\text{tensor\\_3d} $  de taille $(3 \\times 4 \\times 5)$.\n",
    "\n",
    "<Soit  T  le tenseur 3D : let T be the 3 D tensor\n",
    "$$\n",
    "T = \\{ T_{ijk} \\ | \\ i \\in [0,2], \\ j \\in [0,3], \\ k \\in [0,4] \\}\n",
    "$$\n",
    "<où chaque élément $ T_{ijk} $ est une valeur numérique: where each element $ T_{ijk} $ is a numerical  value\n",
    "\n",
    "<Supposons que chaque couche de $\\text{tensor\\_3d} $ soit représentée de la manière suivante :\n",
    "<suppose that each layer of $\\text{tensor\\_3d} $ is represented as follows \n",
    "\n",
    "\n",
    "### Couche 0 : layer 0\n",
    "\n",
    "$$\n",
    "\\text{Couche 0} = \n",
    "\\begin{bmatrix}\n",
    "T_{000} & T_{001} & T_{002} & T_{003} & T_{004} \\\\\n",
    "T_{010} & T_{011} & T_{012} & T_{013} & T_{014} \\\\\n",
    "T_{020} & T_{021} & T_{022} & T_{023} & T_{024} \\\\\n",
    "T_{030} & T_{031} & T_{032} & T_{033} & T_{034} \\\\\n",
    "\\end{bmatrix}\n",
    "$$\n",
    "\n",
    "### Couche 1 : layer 1\n",
    "\n",
    "$$\n",
    "\\text{Couche 1} = \n",
    "\\begin{bmatrix}\n",
    "T_{100} & T_{101} & T_{102} & T_{103} & T_{104} \\\\\n",
    "T_{110} & T_{111} & T_{112} & T_{113} & T_{114} \\\\\n",
    "T_{120} & T_{121} & T_{122} & T_{123} & T_{124} \\\\\n",
    "T_{130} & T_{131} & T_{132} & T_{133} & T_{134} \\\\\n",
    "\\end{bmatrix}\n",
    "$$\n",
    "\n",
    "### Couche 2 :layer 2\n",
    "\n",
    "$$\n",
    "\\text{Couche 2} = \n",
    "\\begin{bmatrix}\n",
    "T_{200} & T_{201} & T_{202} & T_{203} & T_{204} \\\\\n",
    "T_{210} & T_{211} & T_{212} & T_{213} & T_{214} \\\\\n",
    "T_{220} & T_{221} & T_{222} & T_{223} & T_{224} \\\\\n",
    "T_{230} & T_{231} & T_{232} & T_{233} & T_{234} \\\\\n",
    "\\end{bmatrix}\n",
    "$$\n",
    "\n",
    "\n",
    "$\\textbf{Résultat du calcul de la moyenne selon l'axe 0 pour chaque ligne de chaque couche :}$\n",
    "\n",
    "$\\textbf{Result of calculating the mean along axis 0 for each row of each layer :}$\n",
    "  \n",
    "\n",
    "<Le tenseur résultant $R$ de taille $(1 \\times 4 \\times 5)$ est une matrice où chaque élément $R_{ijk}$ est la moyenne des éléments correspondants le long de l'axe 0 dans le tenseur initial :\n",
    "\n",
    "<The resulting tensor $ R $ of size $ (1 \\times 4 \\times 5) $ is a matrix where each element $R_{ijk} $ is the mean of the corresponding elements along axis 0 in the initial tensor.\n",
    "\n",
    "$$\n",
    "R = \\text{torch.mean(tensor\\_3d, dim=0)}\n",
    "$$\n",
    "\n",
    "$$\n",
    "\\text{Couche 0} = \n",
    "\\begin{bmatrix}\n",
    "T_{000} & T_{001} & T_{002} & T_{003} & T_{004} \\\\\n",
    "T_{010} & T_{011} & T_{012} & T_{013} & T_{014} \\\\\n",
    "T_{020} & T_{021} & T_{022} & T_{023} & T_{024} \\\\\n",
    "T_{030} & T_{031} & T_{032} & T_{033} & T_{034} \\\\\n",
    "\\end{bmatrix}\n",
    "\\quad\n",
    "\\text{Couche 1} = \n",
    "\\begin{bmatrix}\n",
    "T_{100} & T_{101} & T_{102} & T_{103} & T_{104} \\\\\n",
    "T_{110} & T_{111} & T_{112} & T_{113} & T_{114} \\\\\n",
    "T_{120} & T_{121} & T_{122} & T_{123} & T_{124} \\\\\n",
    "T_{130} & T_{131} & T_{132} & T_{133} & T_{134} \\\\\n",
    "\\end{bmatrix}\n",
    "$$\n",
    "\n",
    "$$\n",
    "\\text{Couche 2} = \n",
    "\\begin{bmatrix}\n",
    "T_{200} & T_{201} & T_{202} & T_{203} & T_{204} \\\\\n",
    "T_{210} & T_{211} & T_{212} & T_{213} & T_{214} \\\\\n",
    "T_{220} & T_{221} & T_{222} & T_{223} & T_{224} \\\\\n",
    "T_{230} & T_{231} & T_{232} & T_{233} & T_{234} \\\\\n",
    "\\end{bmatrix}\n",
    "$$\n",
    "\n",
    "<Cela donne un tenseur 3D avec une seule ligne, contenant la moyenne des valeurs de chaque colonne de chaque couche.\n",
    "< Which  gives a 3D tensor with a single row, containing the mean of the values of each column in each layer.>\n",
    "$$\n",
    "R =\n",
    "\\begin{bmatrix}\n",
    "\\begin{bmatrix}\n",
    "\\frac{T_{000} + T_{100} + T_{200}}{3} & \\frac{T_{001} + T_{101} + T_{201}}{3} & \\frac{T_{002} + T_{102} + T_{202}}{3} & \\frac{T_{003} + T_{103} + T_{203}}{3} & \\frac{T_{004} + T_{104} + T_{204}}{3} \\\\\n",
    "\\frac{T_{010} + T_{110} + T_{210}}{3} & \\frac{T_{011} + T_{111} + T_{211}}{3} & \\frac{T_{012} + T_{112} + T_{212}}{3} & \\frac{T_{013} + T_{113} + T_{213}}{3} & \\frac{T_{014} + T_{114} + T_{214}}{3} \\\\\n",
    "\\frac{T_{020} + T_{120} + T_{220}}{3} & \\frac{T_{021} + T_{121} + T_{221}}{3} & \\frac{T_{022} + T_{122} + T_{222}}{3} & \\frac{T_{023} + T_{123} + T_{223}}{3} & \\frac{T_{024} + T_{124} + T_{224}}{3} \\\\\n",
    "\\frac{T_{030} + T_{130} + T_{230}}{3} & \\frac{T_{031} + T_{131} + T_{231}}{3} & \\frac{T_{032} + T_{132} + T_{232}}{3} & \\frac{T_{033} + T_{133} + T_{233}}{3} & \\frac{T_{034} + T_{134} + T_{234}}{3}\n",
    "\\end{bmatrix}\n",
    "\\end{bmatrix}\n",
    "$$\n",
    "\n"
   ]
  },
  {
   "cell_type": "code",
   "execution_count": 14,
   "metadata": {},
   "outputs": [
    {
     "name": "stdout",
     "output_type": "stream",
     "text": [
      "la moyenne sur l'ensemble du tenseur :  tensor(0.5058)\n",
      "la moyenne sur chaque ligne dim=0 : \n",
      " tensor([[0.3764, 0.5440, 0.3282, 0.4760, 0.5674],\n",
      "        [0.5617, 0.7840, 0.6097, 0.2665, 0.3147],\n",
      "        [0.4121, 0.7747, 0.4581, 0.2796, 0.6050],\n",
      "        [0.7918, 0.6297, 0.3828, 0.4577, 0.4963]])\n"
     ]
    }
   ],
   "source": [
    "\"correction\"\n",
    "import torch\n",
    "\n",
    "# Créer un tenseur 3D de taille (3, 4, 5) # create 3D tensor of size (3, 4, 5) \n",
    "tensor_3d = torch.tensor([[[0.8335, 0.2876, 0.0810, 0.8498, 0.4211],\n",
    "         [0.3085, 0.9578, 0.7910, 0.2889, 0.0283],\n",
    "         [0.8192, 0.7343, 0.3475, 0.1497, 0.7603],\n",
    "         [0.6140, 0.8811, 0.4190, 0.2365, 0.0564]],\n",
    "\n",
    "        [[0.2033, 0.4380, 0.1223, 0.1788, 0.9831],\n",
    "         [0.7071, 0.8190, 0.9353, 0.3541, 0.3161],\n",
    "         [0.0224, 0.8006, 0.6244, 0.2993, 0.3147],\n",
    "         [0.9992, 0.4172, 0.0642, 0.6450, 0.9134]],\n",
    "\n",
    "        [[0.0925, 0.9065, 0.7812, 0.3994, 0.2980],\n",
    "         [0.6696, 0.5753, 0.1027, 0.1566, 0.5998],\n",
    "         [0.3948, 0.7892, 0.4024, 0.3899, 0.7400],\n",
    "         [0.7623, 0.5908, 0.6651, 0.4917, 0.5190]]])\n",
    "\n",
    "# Calculer la moyenne  sur l'ensemble du tenseur: calculate the mean over the entire tensor\n",
    "mean_all = torch.mean(tensor_3d)\n",
    "# Calculer la moyenne sur chaque ligne (dim=0): calculate the mean along each row (dim = 0)\n",
    "mean_dim0 = torch.mean(tensor_3d, dim=0)\n",
    "\n",
    "# Afficher les résultats : display the results\n",
    "#print(\"Tenseur 3D : \\n\", tensor_3d); \n",
    "print(\"la moyenne sur l'ensemble du tenseur : \", mean_all) # the mean over the entire  tensor\n",
    "print(\"la moyenne sur chaque ligne dim=0 : \\n\", mean_dim0) # The mean along each row (dim=0)\n"
   ]
  },
  {
   "cell_type": "markdown",
   "metadata": {},
   "source": [
    "\n",
    "\n",
    "<Moyenne selon l'Axe 1 pour chaque Colonne :  mean along  axis 1 for each column \n",
    "\n",
    "<Pour illustrer les calculs de moyenne selon l'axe 1 pour chaque colonne dans le tenseur 3D $\\text{tensor\\_3d}$ de taille\n",
    "\n",
    " $(3 \\times 4 \\times 5)$, on procède de la manière suivante :\n",
    "\n",
    "<span style=\"To illustrate the calculations of the mean along axis 1 for each column in 3 D tensor $\\text{tensor\\_3d}$  of size $(3 \\times 4 \\times 5)$, we proceed as follows: \n",
    "\n",
    "Soit $ T $ le tenseur 3D : Let $ T $ the 3D tensor\n",
    "$$\n",
    "T = \\{ T_{ijk} \\ | \\ i \\in [0,2], \\ j \\in [0,3], \\ k \\in [0,4] \\}\n",
    "$$\n",
    "<où chaque élément $ T_{ijk} $ est une valeur numérique: where each element $ T_{ijk} $ is a numerical value\n",
    "\n",
    "\n",
    "<Résultat du calcul de la moyenne selon l'axe 1 pour chaque colonne de chaque couche:\n",
    "<span= style\" result of the mean calculation along axis 1 for each column of each layer:\n",
    "contient la moyenne de chaque colonne dans chaque couche du tenseur 3D le long de l'axe 1 (c'est-à-dire pour chaque colonne dans chaque couche). Le tenseur résultant sera de taille $(3 \\times 1 \\times 5) $, car nous avons pris la moyenne le long de l'axe 1 pour chaque colonne, ce qui réduit la dimension de 4 à 1.\n",
    "<span style=\"Contains the mean of each column in each layer of the 3D tensor along axis 1 (that is, for each column in each layer). The resulting tensor will have a size of  $(3 \\times 1 \\times 5) $, as we computed the mean along axis 1 for each column, reducing the dimension from 4 to 1.\n",
    "\n",
    "\n",
    "$$\n",
    "R = \\text{torch.mean(tensor\\_3d, dim=1)}\n",
    "$$\n",
    "\n",
    "\n",
    "$$\n",
    "\\text{Couche 0} = \n",
    "\\begin{bmatrix}\n",
    "T_{000} & T_{001} & T_{002} & T_{003} & T_{004} \\\\\n",
    "T_{010} & T_{011} & T_{012} & T_{013} & T_{014} \\\\\n",
    "T_{020} & T_{021} & T_{022} & T_{023} & T_{024} \\\\\n",
    "T_{030} & T_{031} & T_{032} & T_{033} & T_{034} \\\\\n",
    "\\end{bmatrix}\n",
    "\\quad\n",
    "\\text{Couche 1} = \n",
    "\\begin{bmatrix}\n",
    "T_{100} & T_{101} & T_{102} & T_{103} & T_{104} \\\\\n",
    "T_{110} & T_{111} & T_{112} & T_{113} & T_{114} \\\\\n",
    "T_{120} & T_{121} & T_{122} & T_{123} & T_{124} \\\\\n",
    "T_{130} & T_{131} & T_{132} & T_{133} & T_{134} \\\\\n",
    "\\end{bmatrix}\n",
    "$$\n",
    "\n",
    "$$\n",
    "\\text{Couche 2} = \n",
    "\\begin{bmatrix}\n",
    "T_{200} & T_{201} & T_{202} & T_{203} & T_{204} \\\\\n",
    "T_{210} & T_{211} & T_{212} & T_{213} & T_{214} \\\\\n",
    "T_{220} & T_{221} & T_{222} & T_{223} & T_{224} \\\\\n",
    "T_{230} & T_{231} & T_{232} & T_{233} & T_{234} \\\\\n",
    "\\end{bmatrix}\n",
    "$$\n",
    "\n",
    "\n",
    "<Le calcul des moyennes pour chaque colonne de chaque couche est donné par :\n",
    "The calculation of the means for each column of each layer is given by:\n",
    "$$\n",
    "R =\n",
    "\\begin{bmatrix}\n",
    "\\begin{bmatrix}\n",
    "\\frac{T_{000} + T_{010} + T_{020} + T_{030}}{4} & \\frac{T_{001} + T_{011} + T_{021} + T_{031}}{4} & \\frac{T_{002} + T_{012} + T_{022} + T_{032}}{4} & \\frac{T_{003} + T_{013} + T_{023} + T_{033}}{4} & \\frac{T_{004} + T_{014} + T_{024} + T_{034}}{4} \\\\\n",
    "\\frac{T_{100} + T_{110} + T_{120} + T_{130}}{4} & \\frac{T_{101} + T_{111} + T_{121} + T_{131}}{4} & \\frac{T_{102} + T_{112} + T_{122} + T_{132}}{4} & \\frac{T_{103} + T_{113} + T_{123} + T_{133}}{4} & \\frac{T_{104} + T_{114} + T_{124} + T_{134}}{4} \\\\\n",
    "\\frac{T_{200} + T_{210} + T_{220} + T_{230}}{4} & \\frac{T_{201} + T_{211} + T_{221} + T_{231}}{4} & \\frac{T_{202} + T_{212} + T_{222} + T_{232}}{4} & \\frac{T_{203} + T_{213} + T_{223} + T_{233}}{4} & \\frac{T_{204} + T_{214} + T_{224} + T_{234}}{4}\n",
    "\\end{bmatrix}\n",
    "\\end{bmatrix}\n",
    "$$\n",
    "\n",
    "\n"
   ]
  },
  {
   "cell_type": "code",
   "execution_count": 21,
   "metadata": {},
   "outputs": [
    {
     "data": {
      "text/plain": [
       "0.5392"
      ]
     },
     "execution_count": 21,
     "metadata": {},
     "output_type": "execute_result"
    }
   ],
   "source": [
    "c1=(0.2980+0.5998+0.7400+0.5190)/4 # 0.5392\n",
    "c1"
   ]
  },
  {
   "cell_type": "code",
   "execution_count": 18,
   "metadata": {},
   "outputs": [
    {
     "name": "stdout",
     "output_type": "stream",
     "text": [
      "la moyenne sur l'ensemble du tenseur :  tensor(0.5058)\n",
      "la moyenne sur chaque colone dim=1 : \n",
      " tensor([[0.6438, 0.7152, 0.4096, 0.3812, 0.3165],\n",
      "        [0.4830, 0.6187, 0.4366, 0.3693, 0.6318],\n",
      "        [0.4798, 0.7154, 0.4878, 0.3594, 0.5392]])\n"
     ]
    }
   ],
   "source": [
    "\"correction\"\n",
    "import torch\n",
    "\n",
    "# Créer un tenseur 3D de taille (3, 4, 5): create a 3D tensor of size (3, 4, 5)\n",
    "tensor_3d = torch.tensor([[[0.8335, 0.2876, 0.0810, 0.8498, 0.4211],\n",
    "         [0.3085, 0.9578, 0.7910, 0.2889, 0.0283],\n",
    "         [0.8192, 0.7343, 0.3475, 0.1497, 0.7603],\n",
    "         [0.6140, 0.8811, 0.4190, 0.2365, 0.0564]],\n",
    "\n",
    "        [[0.2033, 0.4380, 0.1223, 0.1788, 0.9831],\n",
    "         [0.7071, 0.8190, 0.9353, 0.3541, 0.3161],\n",
    "         [0.0224, 0.8006, 0.6244, 0.2993, 0.3147],\n",
    "         [0.9992, 0.4172, 0.0642, 0.6450, 0.9134]],\n",
    "\n",
    "        [[0.0925, 0.9065, 0.7812, 0.3994, 0.2980],\n",
    "         [0.6696, 0.5753, 0.1027, 0.1566, 0.5998],\n",
    "         [0.3948, 0.7892, 0.4024, 0.3899, 0.7400],\n",
    "         [0.7623, 0.5908, 0.6651, 0.4917, 0.5190]]])\n",
    "\n",
    "# Calculer la moyenne  sur l'ensemble du tenseur:calculate the mean over the entire tensor\n",
    "mean_all = torch.mean(tensor_3d)\n",
    "# Calculer la moyenne sur chaque colone (dim=1): calculate the mean along each column (dim=1)\n",
    "mean_dim1 = torch.mean(tensor_3d, dim=1)\n",
    "\n",
    "# Afficher les résultats : display the results\n",
    "#print(\"Tenseur 3D : \\n\", tensor_3d)\n",
    "print(\"la moyenne sur l'ensemble du tenseur : \", mean_all) # the mean over the entire tensor\n",
    "print(\"la moyenne sur chaque colone dim=1 : \\n\", mean_dim1) # the mean along each column (dim=1)\n"
   ]
  },
  {
   "cell_type": "markdown",
   "metadata": {},
   "source": [
    "\n",
    "\n",
    "- Moyenne selon l'Axe 2 pour chaque Ligne : Mean along axis 2 for each row \n",
    "\n",
    "Pour illustrer les calculs de moyenne selon l'axe 2 pour chaque ligne dans le tenseur 3D $\\text{tensor\\_3d}$ de taille $(3 \\times 4 \\times 5)$, on procède de la manière suivante :\n",
    "\n",
    "<span style=\"To illustrate the calculations of the mean along axis 2 for each column in 3 D tensor $\\text{tensor\\_3d}$  of size $(3 \\times 4 \\times 5)$, we proceed as follows: \n",
    "\n",
    "Soit $ T $ le tenseur 3D : Let $ T $ the 3D tensor\n",
    "\n",
    "$$\n",
    "T = \\{ T_{ijk} \\ | \\ i \\in [0,2], \\ j \\in [0,3], \\ k \\in [0,4] \\}\n",
    "$$\n",
    "où chaque élément $ T_{ijk} $ est une valeur numérique: where each element $ T_{ijk} $ is a numerical value\n",
    "\n",
    "<Supposons que chaque couche de $\\text{tensor\\_3d} $ soit représentée de la manière suivante :\n",
    "suppose that each layer of $\\text{tensor\\_3d} $ is represented as follows:\n",
    "\n",
    "- Couche 0 : Layer 0\n",
    "$$\n",
    "\\text{Couche 0} = \n",
    "\\begin{bmatrix}\n",
    "T_{000} & T_{001} & T_{002} & T_{003} & T_{004} \\\\\n",
    "T_{010} & T_{011} & T_{012} & T_{013} & T_{014} \\\\\n",
    "T_{020} & T_{021} & T_{022} & T_{023} & T_{024} \\\\\n",
    "T_{030} & T_{031} & T_{032} & T_{033} & T_{034} \\\\\n",
    "\\end{bmatrix}\n",
    "$$\n",
    "\n",
    "- Couche 1 : Layer 1\n",
    "$$\n",
    "\\text{Couche 1} = \n",
    "\\begin{bmatrix}\n",
    "T_{100} & T_{101} & T_{102} & T_{103} & T_{104} \\\\\n",
    "T_{110} & T_{111} & T_{112} & T_{113} & T_{114} \\\\\n",
    "T_{120} & T_{121} & T_{122} & T_{123} & T_{124} \\\\\n",
    "T_{130} & T_{131} & T_{132} & T_{133} & T_{134} \\\\\n",
    "\\end{bmatrix}\n",
    "$$\n",
    "\n",
    "- Couche 2 : Layer 2\n",
    "$$\n",
    "\\text{Couche 2} = \n",
    "\\begin{bmatrix}\n",
    "T_{200} & T_{201} & T_{202} & T_{203} & T_{204} \\\\\n",
    "T_{210} & T_{211} & T_{212} & T_{213} & T_{214} \\\\\n",
    "T_{220} & T_{221} & T_{222} & T_{223} & T_{224} \\\\\n",
    "T_{230} & T_{231} & T_{232} & T_{233} & T_{234} \\\\\n",
    "\\end{bmatrix}\n",
    "$$\n",
    "\n",
    "\n",
    "<Si on effectue un calcul complet des moyennes selon l'axe 2 pour chaque ligne de chaque couche. Le tenseur résultant, qui est obtenu avec la commande $ \\text{torch.mean(tensor\\_3d, dim=2)} $, contient la moyenne de chaque ligne dans chaque couche du tenseur 3D le long de l'axe 2 (c'est-à-dire pour chaque ligne dans chaque couche). Le tenseur résultant sera de taille $(3 \\times 4 \\times 1)$, car nous avons pris la moyenne le long de l'axe 2 pour chaque ligne, ce qui réduit la dimension de 5 à 1.\n",
    "\n",
    "<span style=\" If we perform a complete calculation of the means along axis 2 for each row of each layer, the resulting tensor, obtained using the command $ \\text{torch.mean(tensor\\_3d, dim=2)}$, contains the mean of each row in each layer of the 3D tensor along axis 2 (i.e., for each row in each layer). The resulting tensor will have a size of $ (3 \\times 4 \\times 1) $, as we computed the mean along axis 2 for each row, reducing the dimension from 5 to 1.\n",
    "\n",
    "- Résultat du calcul de la moyenne selon l'axe 2 pour chaque ligne de chaque couche\n",
    "<span style=\"Result of calculating the mean along axis 2 for each row of each layer\n",
    "\n",
    "$$\n",
    "R = \\text{torch.mean(tensor\\_3d, dim=2)}\n",
    "$$\n",
    "\n",
    "$$\n",
    "\\text{Couche 0} = \n",
    "\\begin{bmatrix}\n",
    "T_{000} & T_{001} & T_{002} & T_{003} & T_{004} \\\\\n",
    "T_{010} & T_{011} & T_{012} & T_{013} & T_{014} \\\\\n",
    "T_{020} & T_{021} & T_{022} & T_{023} & T_{024} \\\\\n",
    "T_{030} & T_{031} & T_{032} & T_{033} & T_{034} \\\\\n",
    "\\end{bmatrix}\n",
    "\\quad\n",
    "\\text{Couche 1} = \n",
    "\\begin{bmatrix}\n",
    "T_{100} & T_{101} & T_{102} & T_{103} & T_{104} \\\\\n",
    "T_{110} & T_{111} & T_{112} & T_{113} & T_{114} \\\\\n",
    "T_{120} & T_{121} & T_{122} & T_{123} & T_{124} \\\\\n",
    "T_{130} & T_{131} & T_{132} & T_{133} & T_{134} \\\\\n",
    "\\end{bmatrix}\n",
    "$$\n",
    "\n",
    "$$\n",
    "\\text{Couche 2} = \n",
    "\\begin{bmatrix}\n",
    "T_{200} & T_{201} & T_{202} & T_{203} & T_{204} \\\\\n",
    "T_{210} & T_{211} & T_{212} & T_{213} & T_{214} \\\\\n",
    "T_{220} & T_{221} & T_{222} & T_{223} & T_{224} \\\\\n",
    "T_{230} & T_{231} & T_{232} & T_{233} & T_{234} \\\\\n",
    "\\end{bmatrix}\n",
    "$$\n",
    "$$\n",
    "R =\n",
    "\\begin{bmatrix}\n",
    "\\frac{T_{000} + T_{001} + T_{002} + T_{003} + T_{004}}{5} & \\frac{T_{010} + T_{011} + T_{012} + T_{013} + T_{014}}{5} & \\frac{T_{020} + T_{021} + T_{022} + T_{023} + T_{024}}{5} & \\frac{T_{030} + T_{031} + T_{032} + T_{033} + T_{034}}{5} \\\\\n",
    "\\frac{T_{100} + T_{101} + T_{102} + T_{103} + T_{104}}{5} & \\frac{T_{110} + T_{111} + T_{112} + T_{113} + T_{114}}{5} & \\frac{T_{120} + T_{121} + T_{122} + T_{123} + T_{124}}{5} & \\frac{T_{130} + T_{131} + T_{132} + T_{133} + T_{134}}{5} \\\\\n",
    "\\frac{T_{200} + T_{201} + T_{202} + T_{203} + T_{204}}{5} & \\frac{T_{210} + T_{211} + T_{212} + T_{213} + T_{214}}{5} & \\frac{T_{220} + T_{221} + T_{222} + T_{223} + T_{224}}{5} & \\frac{T_{230} + T_{231} + T_{232} + T_{233} + T_{234}}{5}\n",
    "\\end{bmatrix}\n",
    "$$\n"
   ]
  },
  {
   "cell_type": "code",
   "execution_count": 22,
   "metadata": {},
   "outputs": [
    {
     "name": "stdout",
     "output_type": "stream",
     "text": [
      "la moyenne sur l'ensemble du tenseur :  tensor(0.5058)\n",
      "la moyenne sur chaque ligne dim=2 : \n",
      " tensor([[0.4946, 0.4749, 0.5622, 0.4414],\n",
      "        [0.3851, 0.6263, 0.4123, 0.6078],\n",
      "        [0.4955, 0.4208, 0.5433, 0.6058]])\n"
     ]
    }
   ],
   "source": [
    "\"correction\"\n",
    "import torch\n",
    "\n",
    "# Créer un tenseur 3D de taille (3, 4, 5): create a 3D tensor of size (3, 4, 5)\n",
    "tensor_3d = torch.tensor([[[0.8335, 0.2876, 0.0810, 0.8498, 0.4211],\n",
    "         [0.3085, 0.9578, 0.7910, 0.2889, 0.0283],\n",
    "         [0.8192, 0.7343, 0.3475, 0.1497, 0.7603],\n",
    "         [0.6140, 0.8811, 0.4190, 0.2365, 0.0564]],\n",
    "\n",
    "        [[0.2033, 0.4380, 0.1223, 0.1788, 0.9831],\n",
    "         [0.7071, 0.8190, 0.9353, 0.3541, 0.3161],\n",
    "         [0.0224, 0.8006, 0.6244, 0.2993, 0.3147],\n",
    "         [0.9992, 0.4172, 0.0642, 0.6450, 0.9134]],\n",
    "\n",
    "        [[0.0925, 0.9065, 0.7812, 0.3994, 0.2980],\n",
    "         [0.6696, 0.5753, 0.1027, 0.1566, 0.5998],\n",
    "         [0.3948, 0.7892, 0.4024, 0.3899, 0.7400],\n",
    "         [0.7623, 0.5908, 0.6651, 0.4917, 0.5190]]])\n",
    "\n",
    "# Calculer la moyenne  sur l'ensemble du tenseur :calculate the mean oer the entire tensor\n",
    "mean_all = torch.mean(tensor_3d)\n",
    "# Calculer la moyenne sur chaque ligne (dim=2): calculate the mean along each row (dim=2)\n",
    "mean_dim2 = torch.mean(tensor_3d, dim=2)\n",
    "\n",
    "# Afficher les résultats: display the results\n",
    "#print(\"Tenseur 3D : \\n\", tensor_3d)\n",
    "print(\"la moyenne sur l'ensemble du tenseur : \", mean_all) # the mean oer the entire tensor\n",
    "print(\"la moyenne sur chaque ligne dim=2 : \\n\", mean_dim2) # the mean along each row (dim=2)\n"
   ]
  },
  {
   "cell_type": "code",
   "execution_count": 23,
   "metadata": {},
   "outputs": [
    {
     "data": {
      "text/plain": [
       "torch.Size([3, 4])"
      ]
     },
     "execution_count": 23,
     "metadata": {},
     "output_type": "execute_result"
    }
   ],
   "source": [
    "mean_dim2.shape"
   ]
  }
 ],
 "metadata": {
  "kernelspec": {
   "display_name": "nom_environnement",
   "language": "python",
   "name": "python3"
  },
  "language_info": {
   "codemirror_mode": {
    "name": "ipython",
    "version": 3
   },
   "file_extension": ".py",
   "mimetype": "text/x-python",
   "name": "python",
   "nbconvert_exporter": "python",
   "pygments_lexer": "ipython3",
   "version": "3.12.3"
  }
 },
 "nbformat": 4,
 "nbformat_minor": 2
}
