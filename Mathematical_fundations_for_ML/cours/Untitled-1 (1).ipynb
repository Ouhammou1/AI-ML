{
 "cells": [
  {
   "cell_type": "code",
   "execution_count": null,
   "metadata": {},
   "outputs": [],
   "source": [
    "import numpy as np\n",
    "\n",
    "# Fonction pour initialiser les centres des clusters aléatoirement\n",
    "def initialize_centroids(X, k):\n",
    "    np.random.seed(42)  # pour la reproductibilité\n",
    "    random_indices = np.random.choice(X.shape[0], size=k, replace=False)\n",
    "    return X[random_indices]\n",
    "\n",
    "# Fonction pour attribuer chaque point au centre de cluster le plus proche\n",
    "def assign_clusters(X, centroids):\n",
    "    distances = np.linalg.norm(X[:, np.newaxis] - centroids, axis=2)\n",
    "    return np.argmin(distances, axis=1)\n",
    "\n",
    "# Fonction pour recalculer les centres des clusters\n",
    "def update_centroids(X, labels, k):\n",
    "    new_centroids = np.array([X[labels == i].mean(axis=0) for i in range(k)])\n",
    "    return new_centroids\n",
    "\n",
    "# Fonction principale du K-means\n",
    "def kmeans(X, k, max_iters=100):\n",
    "    centroids = initialize_centroids(X, k)\n",
    "    for i in range(max_iters):\n",
    "        labels = assign_clusters(X, centroids)\n",
    "        new_centroids = update_centroids(X, labels, k)\n",
    "        \n",
    "        # Vérifier si les centroids ont changé\n",
    "        if np.all(centroids == new_centroids):\n",
    "            break\n",
    "        \n",
    "        centroids = new_centroids\n",
    "    return centroids, labels\n",
    "\n",
    "# Exemple d'utilisation\n",
    "if __name__ == \"__main__\":\n",
    "    # Générer des données aléatoires pour l'exemple\n",
    "    X = np.random.rand(100, 2)  # 100 points avec 2 caractéristiques\n",
    "\n",
    "    k = 3  # Nombre de clusters\n",
    "    centroids, labels = kmeans(X, k)\n",
    "\n",
    "    print(\"Centroids:\\n\", centroids)\n",
    "    print(\"Labels:\\n\", labels)\n"
   ]
  }
 ],
 "metadata": {
  "language_info": {
   "name": "python"
  }
 },
 "nbformat": 4,
 "nbformat_minor": 2
}
